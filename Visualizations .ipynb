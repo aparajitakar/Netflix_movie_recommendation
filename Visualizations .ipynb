{
 "cells": [
  {
   "cell_type": "code",
   "execution_count": 14,
   "id": "dated-torture",
   "metadata": {},
   "outputs": [],
   "source": [
    "import numpy as np\n",
    "import pandas as pd\n",
    "import matplotlib.pyplot as plt\n"
   ]
  },
  {
   "cell_type": "code",
   "execution_count": null,
   "id": "numeric-packaging",
   "metadata": {},
   "outputs": [],
   "source": [
    "df = pd.read_csv(\"Netflix Dataset Latest 2021.csv\")"
   ]
  },
  {
   "cell_type": "code",
   "execution_count": 9,
   "id": "further-holder",
   "metadata": {},
   "outputs": [
    {
     "name": "stdout",
     "output_type": "stream",
     "text": [
      "<class 'pandas.core.frame.DataFrame'>\n",
      "RangeIndex: 9425 entries, 0 to 9424\n",
      "Data columns (total 31 columns):\n",
      " #   Column                 Non-Null Count  Dtype  \n",
      "---  ------                 --------------  -----  \n",
      " 0   Title                  9425 non-null   object \n",
      " 1   Genre                  9400 non-null   object \n",
      " 2   Tags                   9389 non-null   object \n",
      " 3   Languages              9266 non-null   object \n",
      " 4   Series or Movie        9425 non-null   object \n",
      " 5   Hidden Gem Score       9415 non-null   float64\n",
      " 6   Country Availability   9414 non-null   object \n",
      " 7   Runtime                9424 non-null   object \n",
      " 8   Director               7120 non-null   object \n",
      " 9   Writer                 7615 non-null   object \n",
      " 10  Actors                 9314 non-null   object \n",
      " 11  View Rating            6827 non-null   object \n",
      " 12  IMDb Score             9417 non-null   float64\n",
      " 13  Rotten Tomatoes Score  5445 non-null   float64\n",
      " 14  Metacritic Score       4082 non-null   float64\n",
      " 15  Awards Received        5226 non-null   float64\n",
      " 16  Awards Nominated For   6376 non-null   float64\n",
      " 17  Boxoffice              3754 non-null   object \n",
      " 18  Release Date           9217 non-null   object \n",
      " 19  Netflix Release Date   9425 non-null   object \n",
      " 20  Production House       4393 non-null   object \n",
      " 21  Netflix Link           9425 non-null   object \n",
      " 22  IMDb Link              9101 non-null   object \n",
      " 23  Summary                9420 non-null   object \n",
      " 24  IMDb Votes             9415 non-null   float64\n",
      " 25  Image                  9425 non-null   object \n",
      " 26  Poster                 8487 non-null   object \n",
      " 27  TMDb Trailer           9425 non-null   object \n",
      " 28  Trailer Site           9424 non-null   object \n",
      " 29  Unnamed: 29            0 non-null      float64\n",
      " 30  Unnamed: 30            0 non-null      float64\n",
      "dtypes: float64(9), object(22)\n",
      "memory usage: 2.2+ MB\n"
     ]
    }
   ],
   "source": [
    "df.info()"
   ]
  },
  {
   "cell_type": "code",
   "execution_count": 11,
   "id": "alpine-wales",
   "metadata": {},
   "outputs": [
    {
     "data": {
      "text/plain": [
       "0        Thailand\n",
       "1          Canada\n",
       "2        Thailand\n",
       "3          Poland\n",
       "4       Lithuania\n",
       "          ...    \n",
       "9420      Hungary\n",
       "9421      Hungary\n",
       "9422    Australia\n",
       "9423      Belgium\n",
       "9424      Belgium\n",
       "Name: first_country, Length: 9425, dtype: object"
      ]
     },
     "execution_count": 11,
     "metadata": {},
     "output_type": "execute_result"
    }
   ],
   "source": [
    "df['Country Availability'] = df[\"Country Availability\"].fillna(df[\"Country Availability\"].mode()[0])\n",
    "df['first_country'] = df['Country Availability'].apply(lambda x: x.split(\",\")[0])\n",
    "df['first_country']"
   ]
  },
  {
   "cell_type": "code",
   "execution_count": 12,
   "id": "seasonal-bermuda",
   "metadata": {},
   "outputs": [],
   "source": [
    "df['count']=1 #helper column\n",
    "data = df.groupby('first_country')['count'].sum().sort_values(ascending=False)[:10]"
   ]
  },
  {
   "cell_type": "code",
   "execution_count": 18,
   "id": "concerned-joint",
   "metadata": {},
   "outputs": [
    {
     "data": {
      "text/plain": [
       "Text(0.125, 1, 'Top 10 countries on Netflix')"
      ]
     },
     "execution_count": 18,
     "metadata": {},
     "output_type": "execute_result"
    },
    {
     "data": {
      "image/png": "[encoded data removed]",
      "text/plain": [
       "<Figure size 864x432 with 1 Axes>"
      ]
     },
     "metadata": {
      "needs_background": "light"
     },
     "output_type": "display_data"
    }
   ],
   "source": [
    "color_map = ['#f5f5f1' for _ in range(10)]\n",
    "color_map[0] = color_map[1]= color_map[2] = '#b20710'\n",
    "fig,ax = plt.subplots(1,1,figsize=(12,6))\n",
    "\n",
    "#Annotating the figure\n",
    "ax.bar(data.index,data,width=0.5,edgecolor='darkgray',linewidth=0.6,color=color_map)\n",
    "for i in data.index:\n",
    "    ax.annotate(f\"{data[i]}\",xy=(i,data[i]+100),va='center',ha='center',fontweight='light',fontfamily='serif')\n",
    "for s in ['top','left','right']:\n",
    "    ax.spines[s].set_visible(False)\n",
    "\n",
    "    \n",
    "#Adding text\n",
    "fig.text(0.125,1,'Top 10 countries on Netflix',fontsize=15,fontweight='bold',fontfamily='serif')\n"
   ]
  },
  {
   "cell_type": "code",
   "execution_count": null,
   "id": "floating-wireless",
   "metadata": {},
   "outputs": [],
   "source": []
  }
 ],
 "metadata": {
  "kernelspec": {
   "display_name": "Python 3",
   "language": "python",
   "name": "python3"
  },
  "language_info": {
   "codemirror_mode": {
    "name": "ipython",
    "version": 3
   },
   "file_extension": ".py",
   "mimetype": "text/x-python",
   "name": "python",
   "nbconvert_exporter": "python",
   "pygments_lexer": "ipython3",
   "version": "3.7.4"
  }
 },
 "nbformat": 4,
 "nbformat_minor": 5
}
